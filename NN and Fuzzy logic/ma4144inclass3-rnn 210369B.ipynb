{
 "cells": [
  {
   "cell_type": "markdown",
   "id": "dda0e25f-476a-43c0-b3e7-f96a707be566",
   "metadata": {
    "deletable": false,
    "editable": false,
    "slideshow": {
     "slide_type": ""
    },
    "tags": []
   },
   "source": [
    "# <center>Recurrent Neural Networks</center>\n",
    "## <center>Inclass Project 3 - MA4144</center>\n",
    "\n",
    "This project contains multiple tasks to be completed, some require written answers. Questions that required written answers are given in blue fonts. Almost all written questions are open ended, they do not have a correct or wrong answer. You are free to give your opinions, but please provide related answers within the context.\n",
    "\n",
    "After finishing project run the entire notebook once and **save the notebook as a pdf** (File menu -> Save and Export Notebook As -> PDF). You are **required to upload both this ipynb file and the PDF on moodle**.\n",
    "\n",
    "***"
   ]
  },
  {
   "cell_type": "markdown",
   "id": "03930b71-f7aa-4eb8-a078-70fc89a1ac16",
   "metadata": {
    "deletable": false,
    "editable": false
   },
   "source": [
    "## Outline of the project\n",
    "\n",
    "The aim of the project is to build a RNN model to suggest autocompletion of half typed words. You may have seen this in many day today applications; typing an email, a text message etc. For example, suppose you type in the four letter \"univ\", the application may suggest you to autocomplete it by \"university\".\n",
    "\n",
    "![Autocomplete](https://d33v4339jhl8k0.cloudfront.net/docs/assets/5c12e83004286304a71d5b72/images/66d0cb106eb51e63b8f9fbc6/file-gBQe016VYt.gif)\n",
    "\n",
    "We will train a RNN to suggest possible autocompletes given $3$ - $4$ starting letters. That is if we input a string \"univ\" hopefully we expect to see an output like \"university\", \"universal\" etc.\n",
    "\n",
    "For this we will use a text file (wordlist.txt) containing 10,000 common English words (you'll find the file on the moodle link). The list of words will be the \"**vocabulary**\" for our model.\n",
    "\n",
    "We will use the Python **torch library** to implement our autocomplete model. \n",
    "\n",
    "***\n"
   ]
  },
  {
   "cell_type": "markdown",
   "id": "f4db6bc0-f7e0-473d-a172-e6579deea2ee",
   "metadata": {
    "deletable": false,
    "editable": false
   },
   "source": [
    "Use the below cell to use any include any imports"
   ]
  },
  {
   "cell_type": "code",
   "execution_count": 1,
   "id": "76fdc286-3211-4a8f-9802-29d28a324bea",
   "metadata": {
    "deletable": false,
    "editable": true,
    "slideshow": {
     "slide_type": ""
    },
    "tags": []
   },
   "outputs": [
    {
     "name": "stdout",
     "output_type": "stream",
     "text": [
      "device: cpu\n"
     ]
    }
   ],
   "source": [
    "import torch\n",
    "import torch.nn as nn\n",
    "import torch.optim as optim\n",
    "import numpy as np\n",
    "import matplotlib.pyplot as plt\n",
    "import random\n",
    "\n",
    "device = torch.device(\"cuda\" if torch.cuda.is_available() else \"cpu\")\n",
    "print(f\"device: {device}\")"
   ]
  },
  {
   "cell_type": "markdown",
   "id": "8622b61b-dba8-47bb-8e07-92b77e78f4fa",
   "metadata": {
    "deletable": false,
    "editable": false
   },
   "source": [
    "## Section 1: Preparing the vocabulary"
   ]
  },
  {
   "cell_type": "code",
   "execution_count": 2,
   "id": "555a82e5-e56c-4075-a2a2-071633cd4d4c",
   "metadata": {
    "deletable": false
   },
   "outputs": [],
   "source": [
    "WORD_SIZE = 13"
   ]
  },
  {
   "cell_type": "markdown",
   "id": "ef4f44ef-91d0-4d0e-afb5-a66240c9e1d4",
   "metadata": {
    "deletable": false,
    "editable": false,
    "id": "Instructions"
   },
   "source": [
    "**Q1.** In the following cell provide code to load the text file (each word is in a newline), then extract the words (in lowercase) into a list.\n",
    "\n",
    "For practical reasons of training the model we will only use words that are longer that $3$ letters and that have a maximum length of WORD_SIZE (this will be a constant we set at the beginning - you can change this and experiment with different WORD_SIZEs). As seen above it is set to $13$.\n",
    "\n",
    "So out of the extracted list of words filter out those words that match our criteria on word length.\n",
    "\n",
    "To train our model it is convenient to have words/strings of equal length. We will choose to convert every word to length of WORD_SIZE, by adding underscores to the end of the word if it is initially shorter than WORD_SIZE. For example, we will convert the word \"university\" (word length 10) into \"university___\" (wordlength 13). In your code include this conversion as well.\n",
    "\n",
    "Store the processed WORD_SIZE lengthed strings in a list called vocab."
   ]
  },
  {
   "cell_type": "code",
   "execution_count": 3,
   "id": "3219551c-a298-424a-a491-2d7f65a4ad6f",
   "metadata": {
    "deletable": false
   },
   "outputs": [
    {
     "name": "stdout",
     "output_type": "stream",
     "text": [
      "Vocabulary size: 8847\n",
      "Sample words: ['aaron________', 'abandoned____', 'aberdeen_____', 'abilities____', 'ability______']\n"
     ]
    }
   ],
   "source": [
    "#TODO\n",
    "def load_vocab():\n",
    "    vocab = []\n",
    "    with open('wordlist.txt', 'r', encoding='utf-8') as f:\n",
    "        words = [line.strip().lower() for line in f if line.strip()]\n",
    "        \n",
    "    for word in words:\n",
    "        if 3 < len(word) <= WORD_SIZE:\n",
    "            # Pad with underscores to make all words WORD_SIZE length\n",
    "            padded_word = word + '_' * (WORD_SIZE - len(word))\n",
    "            vocab.append(padded_word)\n",
    "        \n",
    "    return vocab\n",
    "    \n",
    "\n",
    "vocab = load_vocab()\n",
    "print(f\"Vocabulary size: {len(vocab)}\")\n",
    "print(f\"Sample words: {vocab[:5]}\")"
   ]
  },
  {
   "cell_type": "markdown",
   "id": "69d3a6fe-c0a7-4808-aa1a-4c3ad6db6de3",
   "metadata": {
    "deletable": false,
    "editable": false,
    "slideshow": {
     "slide_type": ""
    },
    "tags": []
   },
   "source": [
    "<font color='blue'>In the above explanation it was mentioned \"for practical reasons of training the model we will only use words that are longer that $3$ letters and that have a certain maximum length\". In your opinion what could be those practical? Will hit help to build a better model?</font>"
   ]
  },
  {
   "cell_type": "markdown",
   "id": "aaf86cdd-96b2-40eb-8230-c3f04e93cfc4",
   "metadata": {
    "deletable": false,
    "editable": true,
    "id": "Ans1",
    "slideshow": {
     "slide_type": ""
    },
    "tags": []
   },
   "source": [
    "The practical reasons for filtering word lengths include training efficiency, since very short words (≤3 letters) don't provide enough sequential pattern information for the RNN to learn meaningful character relationships, while very long words would require longer sequence processing and increase memory usage and training time significantly. By capping at WORD_SIZE (13), we keep computational costs manageable and ensure fixed input sizes that allow neural networks to work more efficiently with consistent tensor operations and batch processing. Words of similar lengths tend to have similar structural patterns, which helps the model learn better character transition probabilities, and limiting sequence length prevents vanishing gradient problems common in RNNs when processing very long sequences. This approach will help build a better model because it allows focused learning on patterns within a reasonable word length range rather than trying to handle everything from 1-letter to 20+ letter words, enables better generalization to unseen words of similar length, reduces noise by filtering out very short words that don't contribute meaningful sequential information, and provides more consistent performance on words within the trained length range, though it does limit the model's ability to autocomplete words outside this range."
   ]
  },
  {
   "cell_type": "markdown",
   "id": "552b2e6d-f771-4782-8b21-73c121565faa",
   "metadata": {
    "deletable": false,
    "editable": false
   },
   "source": [
    "**Q2** To input words into the model, we will need to convert each letter/character into a number. as we have seen above, the only characters in our list vocab will be the underscore and lowercase english letters. so we will convert these $27$ characters into numbers as follows: underscore -> $0$, 'a' -> $1$, 'b' -> $2$, $\\cdots$, 'z' -> $26$. In the following cell,\n",
    "\n",
    "(i) Implement a method called char_to_num, that takes in a valid character and outputs its numerical assignment.\n",
    "\n",
    "(ii) Implement a method called num_to_char, that takes in a valid number from $0$ to $26$ and outputs the corresponding character.\n",
    "\n",
    "(iii) Implement a method called word_to_numlist, that takes in a word from our vocabulary and outputs a (torch) tensor of numbers that corresponds to each character in the word in that order. For example: the word \"united_______\" will be converted to tensor([21, 14,  9, 20,  5,  4,  0,  0,  0,  0,  0,  0,  0]). You are encouraged to use your char_to_num method for this.\n",
    "\n",
    "(iv) Implement a method called numlist_to_word, that does the opposite of the above described word_to_numlist, given a tensor of numbers from $0$ to $26$, outputs the corresponding word. You are encouraged to use your  num_to_char method for this.\n",
    "\n",
    "Note: As mentioned since we are using the torch library we will be using tensors instead of the usual python lists or numpy arrays. Tensors are the list equivalent in torch. Torch models only accept tensors as input and they output tensors."
   ]
  },
  {
   "cell_type": "code",
   "execution_count": 4,
   "id": "054a4ab4-5883-4948-adc5-eb8916b6234d",
   "metadata": {
    "deletable": false,
    "editable": true,
    "slideshow": {
     "slide_type": ""
    },
    "tags": []
   },
   "outputs": [],
   "source": [
    "def char_to_num(char):\n",
    "    if char == '_':\n",
    "        return 0\n",
    "    if 'a' <= char <= 'z':\n",
    "        return ord(char) - ord('a') + 1\n",
    "    raise ValueError(f\"Invalid character: {char!r}\")\n",
    "\n",
    "def num_to_char(num):\n",
    "    idx = int(num)\n",
    "    if idx == 0:\n",
    "        return '_'\n",
    "    if 1 <= idx <= 26:\n",
    "        return chr(ord('a') + idx - 1)\n",
    "    raise ValueError(f\"Invalid index: {num}\")\n",
    "\n",
    "def word_to_numlist(word):\n",
    "    nums = [char_to_num(c) for c in word]\n",
    "    return torch.tensor(nums, dtype=torch.long)\n",
    "\n",
    "def numlist_to_word(numlist):\n",
    "    seq = numlist.tolist() if hasattr(numlist, 'tolist') else list(numlist)\n",
    "    chars = [num_to_char(n) for n in seq]\n",
    "    return ''.join(chars)"
   ]
  },
  {
   "cell_type": "markdown",
   "id": "028d1936-fadb-4ddb-9027-3a75960aa6b1",
   "metadata": {
    "deletable": false,
    "editable": false
   },
   "source": [
    "<font color='blue'>We convert letter into just numbers based on their aphabetical order, I claim that it is a very bad way to encode data such as letters to be fed into learning models, please write your explanation to or against my claim. If you are searching for reasons, the keyword 'categorical data' may be useful. Although the letters in our case are not treated as categorical data, the same reasons as for categorical data is applicable. Even if my claim is valid, at the end it won't matter due to something called \"embedding layers\" that we will use in our model. What is an embedding layer? What is it's purpose? Explain.</font> (write answers in the cell below as a string)"
   ]
  },
  {
   "cell_type": "code",
   "execution_count": 5,
   "id": "e29cb406-1f95-46c3-a1e2-d13fe0ed557b",
   "metadata": {
    "deletable": false,
    "editable": true,
    "id": "Ans2",
    "slideshow": {
     "slide_type": ""
    },
    "tags": []
   },
   "outputs": [],
   "source": [
    "#Write answer here as strings:\n",
    "\n",
    "answer_ = \"I agree with your claim that converting letters to numbers based on alphabetical order is a suboptimal encoding method for machine learning models. This approach creates artificial ordinal relationships between letters where none should exist - for example, it implies that 'b' (2) is somehow 'twice as much' as 'a' (1), or that 'z' (26) is arithmetically related to 'a' (1) in a meaningful way. This is problematic because letters are categorical data, not ordinal data, meaning they represent distinct categories without any inherent numerical relationship or hierarchy. When we encode categorical data as simple integers, we introduce spurious mathematical relationships that can mislead the learning algorithm into finding patterns based on these artificial numerical distances rather than the actual linguistic relationships between letters. However, as you correctly point out, this issue is resolved by using embedding layers in our neural network. An embedding layer is a learnable lookup table that maps each integer (representing a character) to a dense vector of real numbers in a high-dimensional space. The purpose of the embedding layer is to learn meaningful representations of characters during training, where characters that appear in similar contexts or have similar roles in language will have similar vector representations. Unlike the arbitrary numerical ordering we initially assign, these learned embeddings capture semantic relationships - for example, vowels might cluster together in the embedding space, or consonants with similar sounds might have similar representations. The embedding layer essentially transforms our crude integer encoding into rich, context-aware representations that the LSTM can effectively use to understand character sequences and predict the next character in a word. This is why the initial integer encoding doesn't ultimately harm the model's performance - the embedding layer learns to ignore the arbitrary numerical ordering and creates its own meaningful character representations.\""
   ]
  },
  {
   "cell_type": "markdown",
   "id": "92070a74-0f42-435d-a3ba-b38f0d1aaf3c",
   "metadata": {
    "deletable": false,
    "editable": false
   },
   "source": [
    "## Section 2: Implementing the Autocomplete model"
   ]
  },
  {
   "cell_type": "markdown",
   "id": "6cbb965e-afcd-41ae-86f0-2f3d4682e18b",
   "metadata": {
    "deletable": false,
    "editable": false,
    "slideshow": {
     "slide_type": ""
    },
    "tags": []
   },
   "source": [
    "We will implement a RNN LSTM model. The [video tutorial](https://www.youtube.com/watch?v=tL5puCeDr-o) will be useful. Our model will be only one hidden layer, but feel free to sophisticate with more layers after the project for your own experiments.\n",
    "\n",
    "Our model will contain all the training and prediction methods as single package in a class (autocompleteModel) we will define and implement below."
   ]
  },
  {
   "cell_type": "code",
   "execution_count": 6,
   "id": "0dfe311c-669d-4d58-a833-ae3970b6d271",
   "metadata": {
    "deletable": false
   },
   "outputs": [],
   "source": [
    "LEARNING_RATE = 0.001"
   ]
  },
  {
   "cell_type": "code",
   "execution_count": 7,
   "id": "4976fc91-2c4e-497a-954e-9014dd31be5e",
   "metadata": {
    "deletable": false,
    "editable": true,
    "slideshow": {
     "slide_type": ""
    },
    "tags": []
   },
   "outputs": [],
   "source": [
    "class autocompleteModel(nn.Module):\n",
    "    def __init__(self, alphabet_size, embed_dim, hidden_size, num_layers):\n",
    "        super().__init__()\n",
    "        self.alphabet_size = alphabet_size\n",
    "        self.embed_dim = embed_dim\n",
    "        self.hidden_size = hidden_size\n",
    "        self.num_layers = num_layers\n",
    "        self.word_size = WORD_SIZE\n",
    "\n",
    "        # Improved architecture with dropout for regularization\n",
    "        self.embedding = nn.Embedding(self.alphabet_size, self.embed_dim)\n",
    "        self.dropout = nn.Dropout(0.2)  # Add dropout for regularization\n",
    "        \n",
    "        # Use LSTM instead of LSTMCell for batch processing\n",
    "        self.lstm = nn.LSTM(self.embed_dim, self.hidden_size, self.num_layers, \n",
    "                           batch_first=True, dropout=0.2 if num_layers > 1 else 0)\n",
    "        \n",
    "        self.fc = nn.Linear(self.hidden_size, self.alphabet_size)\n",
    "        self.criterion = nn.CrossEntropyLoss()\n",
    "        \n",
    "        # Initialize weights\n",
    "        self.init_weights()\n",
    "        self.to(device)\n",
    "\n",
    "    def init_weights(self):\n",
    "        \"\"\"Initialize weights for better training\"\"\"\n",
    "        for name, param in self.named_parameters():\n",
    "            if 'weight' in name:\n",
    "                nn.init.xavier_uniform_(param)\n",
    "            elif 'bias' in name:\n",
    "                nn.init.zeros_(param)\n",
    "\n",
    "    def forward(self, input_seq, hidden_state=None):\n",
    "        \"\"\"\n",
    "        Forward pass for sequence processing\n",
    "        input_seq: (batch_size, seq_len)\n",
    "        \"\"\"\n",
    "        batch_size, seq_len = input_seq.size()\n",
    "        \n",
    "        # Embedding\n",
    "        embedded = self.embedding(input_seq)  # (batch_size, seq_len, embed_dim)\n",
    "        embedded = self.dropout(embedded)\n",
    "        \n",
    "        # LSTM\n",
    "        if hidden_state is None:\n",
    "            hidden_state = self.init_hidden(batch_size)\n",
    "            \n",
    "        lstm_out, hidden_state = self.lstm(embedded, hidden_state)\n",
    "        \n",
    "        # Apply dropout and linear layer\n",
    "        output = self.fc(lstm_out)  # (batch_size, seq_len, alphabet_size)\n",
    "        \n",
    "        return output, hidden_state\n",
    "\n",
    "    def init_hidden(self, batch_size):\n",
    "        \"\"\"Initialize hidden state\"\"\"\n",
    "        h0 = torch.zeros(self.num_layers, batch_size, self.hidden_size, device=device)\n",
    "        c0 = torch.zeros(self.num_layers, batch_size, self.hidden_size, device=device)\n",
    "        return (h0, c0)\n",
    "\n",
    "    def trainModel(self, vocab, epochs=5, batch_size=64):\n",
    "        \"\"\"Improved training with better batching\"\"\"\n",
    "        self.train()\n",
    "        \n",
    "        # Use learning rate scheduler\n",
    "        optimizer = optim.Adam(self.parameters(), lr=LEARNING_RATE, weight_decay=1e-5)\n",
    "        scheduler = optim.lr_scheduler.StepLR(optimizer, step_size=2, gamma=0.8)\n",
    "        \n",
    "        loss_log = []\n",
    "        \n",
    "        for epoch in range(1, epochs+1):\n",
    "            random.shuffle(vocab)\n",
    "            epoch_loss = 0.0\n",
    "            num_batches = 0\n",
    "            \n",
    "            # Process in batches\n",
    "            for i in range(0, len(vocab), batch_size):\n",
    "                batch_words = vocab[i:i+batch_size]\n",
    "                if len(batch_words) < batch_size:\n",
    "                    continue  # Skip incomplete batches\n",
    "                    \n",
    "                optimizer.zero_grad()\n",
    "                \n",
    "                # Convert batch to tensors\n",
    "                batch_input = []\n",
    "                batch_target = []\n",
    "                \n",
    "                for word in batch_words:\n",
    "                    seq = word_to_numlist(word)\n",
    "                    batch_input.append(seq[:-1])  # All but last char\n",
    "                    batch_target.append(seq[1:])  # All but first char\n",
    "                \n",
    "                batch_input = torch.stack(batch_input).to(device)   # (batch_size, seq_len)\n",
    "                batch_target = torch.stack(batch_target).to(device) # (batch_size, seq_len)\n",
    "                \n",
    "                # Forward pass\n",
    "                outputs, _ = self.forward(batch_input)\n",
    "                \n",
    "                # Reshape for loss calculation\n",
    "                outputs = outputs.view(-1, self.alphabet_size)  # (batch_size * seq_len, alphabet_size)\n",
    "                batch_target = batch_target.view(-1)            # (batch_size * seq_len)\n",
    "                \n",
    "                # Calculate loss\n",
    "                loss = self.criterion(outputs, batch_target)\n",
    "                \n",
    "                # Backward pass\n",
    "                loss.backward()\n",
    "                \n",
    "                # Gradient clipping to prevent exploding gradients\n",
    "                torch.nn.utils.clip_grad_norm_(self.parameters(), max_norm=1.0)\n",
    "                \n",
    "                optimizer.step()\n",
    "                \n",
    "                epoch_loss += loss.item()\n",
    "                num_batches += 1\n",
    "                loss_log.append(loss.item())\n",
    "            \n",
    "            # Update learning rate\n",
    "            scheduler.step()\n",
    "            \n",
    "            avg_epoch_loss = epoch_loss / num_batches if num_batches > 0 else 0\n",
    "            print(f\"Epoch {epoch}/{epochs}, Loss: {avg_epoch_loss:.4f}, LR: {scheduler.get_last_lr()[0]:.6f}\")\n",
    "\n",
    "        # Plot training loss\n",
    "        plt.figure(figsize=(10, 6))\n",
    "        plt.plot(loss_log)\n",
    "        plt.xlabel(\"Iteration\")\n",
    "        plt.ylabel(\"Loss\")\n",
    "        plt.title(\"Training Loss\")\n",
    "        plt.grid(True)\n",
    "        plt.show()\n",
    "\n",
    "    def autocomplete(self, samples, temperature=0.8, max_length=None):\n",
    "        \"\"\"\n",
    "        Improved autocomplete with better sampling strategies\n",
    "        \"\"\"\n",
    "        self.eval()\n",
    "        completed = []\n",
    "        \n",
    "        if max_length is None:\n",
    "            max_length = self.word_size\n",
    "\n",
    "        with torch.no_grad():\n",
    "            for sample in samples:\n",
    "                sample = sample.lower()\n",
    "                \n",
    "                # Convert sample to tensor\n",
    "                input_seq = torch.tensor([char_to_num(c) for c in sample], \n",
    "                                       dtype=torch.long, device=device).unsqueeze(0)\n",
    "                \n",
    "                # Get hidden state after processing the sample\n",
    "                _, hidden = self.forward(input_seq)\n",
    "                \n",
    "                # Generate remaining characters\n",
    "                generated = sample\n",
    "                current_input = torch.tensor([[char_to_num(sample[-1])]], \n",
    "                                           dtype=torch.long, device=device)\n",
    "                \n",
    "                for _ in range(max_length - len(sample)):\n",
    "                    # Forward pass\n",
    "                    output, hidden = self.forward(current_input, hidden)\n",
    "                    \n",
    "                    # Apply temperature and get probabilities\n",
    "                    logits = output[0, -1, :] / temperature\n",
    "                    probs = torch.softmax(logits, dim=0)\n",
    "                    \n",
    "                    # Sample next character (with top-k sampling for better results)\n",
    "                    top_k = min(5, len(probs))\n",
    "                    top_probs, top_indices = torch.topk(probs, top_k)\n",
    "                    top_probs = top_probs / torch.sum(top_probs)  # Renormalize\n",
    "                    \n",
    "                    # Sample from top-k\n",
    "                    selected_idx = torch.multinomial(top_probs, 1).item()\n",
    "                    next_char_idx = top_indices[selected_idx].item()\n",
    "                    next_char = num_to_char(next_char_idx)\n",
    "                    \n",
    "                    # Stop if we hit padding or reach reasonable length\n",
    "                    if next_char == '_' or len(generated) >= 15:\n",
    "                        break\n",
    "                    \n",
    "                    generated += next_char\n",
    "                    current_input = torch.tensor([[next_char_idx]], \n",
    "                                               dtype=torch.long, device=device)\n",
    "                \n",
    "                completed.append(generated)\n",
    "        \n",
    "        return completed\n"
   ]
  },
  {
   "cell_type": "markdown",
   "id": "1f9b5489-b770-4519-b20c-4f2beebfb8f9",
   "metadata": {
    "deletable": false,
    "editable": true
   },
   "source": [
    "## Section 3: Using and evaluating the model\n",
    "\n",
    "(i) Initialize and train autocompleteModels using different embedding dimensions and hidden layer sizes. Use different learning rates, epochs, batch sizes. Train the best model you can.\n",
    "\n",
    "(ii) Evaluate it on different samples of partially filled in words to test your model. Eg: [\"univ\", \"math\", \"neur\", \"engin\"] etc.\n",
    "\n",
    "(iii) Set your best model, to the variable best_model. This model will be tested against random inputs (3-4 starting strings of common English words). **This will be the main contributor for your score in this project**."
   ]
  },
  {
   "cell_type": "code",
   "execution_count": null,
   "id": "5ac2ab12-0cc8-48d1-816f-ab8ec7ac23cd",
   "metadata": {
    "deletable": false
   },
   "outputs": [],
   "source": []
  },
  {
   "cell_type": "code",
   "execution_count": 8,
   "id": "c11b1ecf-456c-408c-bb06-6f3ab91234f7",
   "metadata": {},
   "outputs": [
    {
     "name": "stdout",
     "output_type": "stream",
     "text": [
      "Training improved model...\n",
      "Epoch 1/5, Loss: 1.7215, LR: 0.001000\n",
      "Epoch 2/5, Loss: 1.3730, LR: 0.000800\n",
      "Epoch 3/5, Loss: 1.2800, LR: 0.000800\n",
      "Epoch 4/5, Loss: 1.2264, LR: 0.000640\n",
      "Epoch 5/5, Loss: 1.1868, LR: 0.000640\n"
     ]
    },
    {
     "data": {
      "image/png": "[encoded data removed]",
      "text/plain": [
       "<Figure size 1000x600 with 1 Axes>"
      ]
     },
     "metadata": {},
     "output_type": "display_data"
    },
    {
     "name": "stdout",
     "output_type": "stream",
     "text": [
      "\n",
      "Testing improved autocomplete:\n",
      "univ -> unives\n",
      "math -> mathess\n",
      "neur -> neur\n",
      "engin -> engin\n",
      "comp -> compection\n",
      "algo -> algon\n"
     ]
    }
   ],
   "source": [
    "# Training and evaluation\n",
    "print(\"Training improved model...\")\n",
    "\n",
    "# Use optimized hyperparameters\n",
    "model = autocompleteModel(\n",
    "    alphabet_size=27, \n",
    "    embed_dim=125,      # Balanced embedding size\n",
    "    hidden_size=256,    # Reasonable hidden size\n",
    "    num_layers=2        # 2 layers for better learning\n",
    ")\n",
    "\n",
    "# Train with better parameters\n",
    "model.trainModel(vocab, epochs=5, batch_size=64)\n",
    "\n",
    "# Test the model\n",
    "test_samples = [\"univ\", \"math\", \"neur\", \"engin\", \"comp\", \"algo\"]\n",
    "print(\"\\nTesting improved autocomplete:\")\n",
    "results = model.autocomplete(test_samples, temperature=0.6)\n",
    "\n",
    "for inp, out in zip(test_samples, results):\n",
    "    print(f\"{inp} -> {out}\")\n",
    "\n",
    "# Set as best model\n",
    "best_model = model"
   ]
  }
 ],
 "metadata": {
  "kaggle": {
   "accelerator": "none",
   "dataSources": [
    {
     "datasetId": 8363905,
     "sourceId": 13197617,
     "sourceType": "datasetVersion"
    }
   ],
   "dockerImageVersionId": 31089,
   "isGpuEnabled": false,
   "isInternetEnabled": true,
   "language": "python",
   "sourceType": "notebook"
  },
  "kernelspec": {
   "display_name": "Python 3 (ipykernel)",
   "language": "python",
   "name": "python3"
  },
  "language_info": {
   "codemirror_mode": {
    "name": "ipython",
    "version": 3
   },
   "file_extension": ".py",
   "mimetype": "text/x-python",
   "name": "python",
   "nbconvert_exporter": "python",
   "pygments_lexer": "ipython3",
   "version": "3.13.7"
  }
 },
 "nbformat": 4,
 "nbformat_minor": 5
}
