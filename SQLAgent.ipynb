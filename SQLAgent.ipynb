{
  "nbformat": 4,
  "nbformat_minor": 0,
  "metadata": {
    "colab": {
      "provenance": [],
      "authorship_tag": "ABX9TyOl3ST4U2rrkObDAuYYUJry",
      "include_colab_link": true
    },
    "kernelspec": {
      "name": "python3",
      "display_name": "Python 3"
    },
    "language_info": {
      "name": "python"
    }
  },
  "cells": [
    {
      "cell_type": "markdown",
      "metadata": {
        "id": "view-in-github",
        "colab_type": "text"
      },
      "source": [
        "<a href=\"https://colab.research.google.com/github/LRManamperi/Machine-Learning/blob/main/SQLAgent.ipynb\" target=\"_parent\"><img src=\"https://colab.research.google.com/assets/colab-badge.svg\" alt=\"Open In Colab\"/></a>"
      ]
    },
    {
      "cell_type": "code",
      "execution_count": 1,
      "metadata": {
        "id": "oXLX8WBEGXrt"
      },
      "outputs": [],
      "source": [
        "%%capture --no-stderr\n",
        "%pip install -U langgraph langchain_openai langchain_community"
      ]
    },
    {
      "cell_type": "code",
      "source": [
        "import getpass\n",
        "import os\n",
        "\n",
        "def _set_env(key: str):\n",
        "    if key not in os.environ:\n",
        "        os.environ[key] = getpass.getpass(f\"{key}:\")\n",
        "\n",
        "_set_env(\"GROQ_API_KEY\")\n"
      ],
      "metadata": {
        "colab": {
          "base_uri": "https://localhost:8080/"
        },
        "id": "QfkFqJhwGbJ7",
        "outputId": "bc593a3b-c543-45ec-b5d4-ec8ee3580fca"
      },
      "execution_count": 2,
      "outputs": [
        {
          "name": "stdout",
          "output_type": "stream",
          "text": [
            "GROQ_API_KEY:··········\n"
          ]
        }
      ]
    },
    {
      "cell_type": "code",
      "source": [
        "import requests\n",
        "\n",
        "url = \"https://storage.googleapis.com/benchmarks-artifacts/chinook/Chinook.db\"\n",
        "\n",
        "response = requests.get(url)\n",
        "\n",
        "if response.status_code == 200:\n",
        "    # Open a local file in binary write mode\n",
        "    with open(\"Chinook.db\", \"wb\") as file:\n",
        "        # Write the content of the response (the file) to the local file\n",
        "        file.write(response.content)\n",
        "    print(\"File downloaded and saved as Chinook.db\")\n",
        "else:\n",
        "    print(f\"Failed to download the file. Status code: {response.status_code}\")"
      ],
      "metadata": {
        "colab": {
          "base_uri": "https://localhost:8080/"
        },
        "id": "zvpm1zLdGx4M",
        "outputId": "872285c8-2c89-4b17-e24a-b5b272cfe552"
      },
      "execution_count": 3,
      "outputs": [
        {
          "output_type": "stream",
          "name": "stdout",
          "text": [
            "File downloaded and saved as Chinook.db\n"
          ]
        }
      ]
    },
    {
      "cell_type": "code",
      "source": [
        "%%capture --no-stderr --no-display\n",
        "!pip install langgraph langchain_community langchain_openai"
      ],
      "metadata": {
        "id": "ponea-iuG5oj"
      },
      "execution_count": 4,
      "outputs": []
    },
    {
      "cell_type": "code",
      "source": [
        "from langchain_community.utilities import SQLDatabase\n",
        "\n",
        "db = SQLDatabase.from_uri(\"sqlite:///Chinook.db\")\n",
        "print(db.dialect)\n",
        "print(db.get_usable_table_names())\n",
        "db.run(\"SELECT * FROM Artist LIMIT 10;\")"
      ],
      "metadata": {
        "colab": {
          "base_uri": "https://localhost:8080/",
          "height": 88
        },
        "id": "f6LctPb9G9m0",
        "outputId": "b206ced6-f4d2-4c36-a974-ffe13061d13c"
      },
      "execution_count": 5,
      "outputs": [
        {
          "output_type": "stream",
          "name": "stdout",
          "text": [
            "sqlite\n",
            "['Album', 'Artist', 'Customer', 'Employee', 'Genre', 'Invoice', 'InvoiceLine', 'MediaType', 'Playlist', 'PlaylistTrack', 'Track']\n"
          ]
        },
        {
          "output_type": "execute_result",
          "data": {
            "text/plain": [
              "\"[(1, 'AC/DC'), (2, 'Accept'), (3, 'Aerosmith'), (4, 'Alanis Morissette'), (5, 'Alice In Chains'), (6, 'Antônio Carlos Jobim'), (7, 'Apocalyptica'), (8, 'Audioslave'), (9, 'BackBeat'), (10, 'Billy Cobham')]\""
            ],
            "application/vnd.google.colaboratory.intrinsic+json": {
              "type": "string"
            }
          },
          "metadata": {},
          "execution_count": 5
        }
      ]
    },
    {
      "cell_type": "code",
      "source": [
        "from typing import Any\n",
        "\n",
        "from langchain_core.messages import ToolMessage\n",
        "from langchain_core.runnables import RunnableLambda, RunnableWithFallbacks\n",
        "from langgraph.prebuilt import ToolNode\n",
        "\n",
        "\n",
        "def create_tool_node_with_fallback(tools: list) -> RunnableWithFallbacks[Any, dict]:\n",
        "    \"\"\"\n",
        "    Create a ToolNode with a fallback to handle errors and surface them to the agent.\n",
        "    \"\"\"\n",
        "    return ToolNode(tools).with_fallbacks(\n",
        "        [RunnableLambda(handle_tool_error)], exception_key=\"error\"\n",
        "    )\n",
        "\n",
        "\n",
        "def handle_tool_error(state) -> dict:\n",
        "    error = state.get(\"error\")\n",
        "    tool_calls = state[\"messages\"][-1].tool_calls\n",
        "    return {\n",
        "        \"messages\": [\n",
        "            ToolMessage(\n",
        "                content=f\"Error: {repr(error)}\\n please fix your mistakes.\",\n",
        "                tool_call_id=tc[\"id\"],\n",
        "            )\n",
        "            for tc in tool_calls\n",
        "        ]\n",
        "    }"
      ],
      "metadata": {
        "id": "EYJaHWn2HBn0"
      },
      "execution_count": 6,
      "outputs": []
    },
    {
      "cell_type": "code",
      "source": [
        "import os\n",
        "from langchain_community.agent_toolkits import SQLDatabaseToolkit\n",
        "from langchain_openai import ChatOpenAI\n",
        "from langchain_community.utilities import SQLDatabase\n",
        "\n",
        "# Make sure the GROQ_API_KEY is set in the environment\n",
        "# (You can also set it in code with: os.environ[\"GROQ_API_KEY\"] = \"your-key\")\n",
        "\n",
        "# Initialize the database (update this to your actual DB URI)\n",
        "db = SQLDatabase.from_uri(\"sqlite:///Chinook.db\")\n",
        "\n",
        "# Initialize the Groq LLM\n",
        "llm = ChatOpenAI(\n",
        "    model_name=\"mixtral-8x7b-32768\",  # or \"llama3-8b-8192\", etc.\n",
        "    base_url=\"https://api.groq.com/openai/v1\",\n",
        "    api_key=os.environ[\"GROQ_API_KEY\"]\n",
        ")\n",
        "\n",
        "# Set up the toolkit\n",
        "toolkit = SQLDatabaseToolkit(db=db, llm=llm)\n",
        "tools = toolkit.get_tools()\n",
        "\n",
        "# Access specific tools\n",
        "list_tables_tool = next(tool for tool in tools if tool.name == \"sql_db_list_tables\")\n",
        "get_schema_tool = next(tool for tool in tools if tool.name == \"sql_db_schema\")\n",
        "\n",
        "# Use the tools\n",
        "print(list_tables_tool.invoke(\"\"))\n",
        "print(get_schema_tool.invoke(\"Artist\"))\n",
        "\n"
      ],
      "metadata": {
        "colab": {
          "base_uri": "https://localhost:8080/"
        },
        "id": "kcqpc0SfHF_s",
        "outputId": "46d9bb94-4023-467b-9c83-69195fc36ec1"
      },
      "execution_count": 9,
      "outputs": [
        {
          "output_type": "stream",
          "name": "stdout",
          "text": [
            "Album, Artist, Customer, Employee, Genre, Invoice, InvoiceLine, MediaType, Playlist, PlaylistTrack, Track\n",
            "\n",
            "CREATE TABLE \"Artist\" (\n",
            "\t\"ArtistId\" INTEGER NOT NULL, \n",
            "\t\"Name\" NVARCHAR(120), \n",
            "\tPRIMARY KEY (\"ArtistId\")\n",
            ")\n",
            "\n",
            "/*\n",
            "3 rows from Artist table:\n",
            "ArtistId\tName\n",
            "1\tAC/DC\n",
            "2\tAccept\n",
            "3\tAerosmith\n",
            "*/\n"
          ]
        }
      ]
    },
    {
      "cell_type": "code",
      "source": [
        "from langchain_core.tools import tool\n",
        "\n",
        "\n",
        "@tool\n",
        "def db_query_tool(query: str) -> str:\n",
        "    \"\"\"\n",
        "    Execute a SQL query against the database and get back the result.\n",
        "    If the query is not correct, an error message will be returned.\n",
        "    If an error is returned, rewrite the query, check the query, and try again.\n",
        "    \"\"\"\n",
        "    result = db.run_no_throw(query)\n",
        "    if not result:\n",
        "        return \"Error: Query failed. Please rewrite your query and try again.\"\n",
        "    return result\n",
        "\n",
        "\n",
        "print(db_query_tool.invoke(\"SELECT * FROM Artist LIMIT 10;\"))"
      ],
      "metadata": {
        "colab": {
          "base_uri": "https://localhost:8080/"
        },
        "id": "hgjm7ggkHsJk",
        "outputId": "aa0e249e-06de-4493-cd05-f4a884b6af99"
      },
      "execution_count": 10,
      "outputs": [
        {
          "output_type": "stream",
          "name": "stdout",
          "text": [
            "[(1, 'AC/DC'), (2, 'Accept'), (3, 'Aerosmith'), (4, 'Alanis Morissette'), (5, 'Alice In Chains'), (6, 'Antônio Carlos Jobim'), (7, 'Apocalyptica'), (8, 'Audioslave'), (9, 'BackBeat'), (10, 'Billy Cobham')]\n"
          ]
        }
      ]
    },
    {
      "cell_type": "code",
      "source": [
        "import os\n",
        "from langchain_core.prompts import ChatPromptTemplate\n",
        "from langchain_core.runnables import Runnable\n",
        "from langchain_openai import ChatOpenAI\n",
        "from langchain_core.tools import Tool\n",
        "\n",
        "# Example dummy tool to simulate query execution\n",
        "def run_query(input: str) -> str:\n",
        "    return f\"Executed: {input}\"\n",
        "\n",
        "db_query_tool = Tool(\n",
        "    name=\"db_query_tool\",\n",
        "    description=\"Executes SQL query on the database.\",\n",
        "    func=run_query\n",
        ")\n",
        "\n",
        "# Use supported Groq model\n",
        "llm = ChatOpenAI(\n",
        "    model_name=\"llama3-8b-8192\",\n",
        "    base_url=\"https://api.groq.com/openai/v1\",\n",
        "    api_key=os.environ[\"GROQ_API_KEY\"],\n",
        "    temperature=0,\n",
        ")\n",
        "\n",
        "# System prompt\n",
        "query_check_system = \"\"\"You are a SQL expert with a strong attention to detail.\n",
        "Double check the SQLite query for common mistakes, including:\n",
        "- Using NOT IN with NULL values\n",
        "- Using UNION when UNION ALL should have been used\n",
        "- Using BETWEEN for exclusive ranges\n",
        "- Data type mismatch in predicates\n",
        "- Properly quoting identifiers\n",
        "- Using the correct number of arguments for functions\n",
        "- Casting to the correct data type\n",
        "- Using the proper columns for joins\n",
        "\n",
        "If there are any of the above mistakes, rewrite the query. If there are no mistakes, just reproduce the original query.\n",
        "\n",
        "You will call the appropriate tool to execute the query after running this check.\"\"\"\n",
        "\n",
        "# Prompt setup\n",
        "query_check_prompt = ChatPromptTemplate.from_messages([\n",
        "    (\"system\", query_check_system),\n",
        "    (\"human\", \"{messages}\")\n",
        "])\n",
        "\n",
        "# Bind tool\n",
        "query_check: Runnable = query_check_prompt | llm.bind_tools(\n",
        "    [db_query_tool], tool_choice=\"required\"\n",
        ")\n",
        "\n",
        "# Call the chain\n",
        "response = query_check.invoke({\n",
        "    \"messages\": \"SELECT * FROM Artist LIMIT 10;\"\n",
        "})\n",
        "\n",
        "print(response)\n"
      ],
      "metadata": {
        "colab": {
          "base_uri": "https://localhost:8080/"
        },
        "id": "N0Fo7ifYHvp7",
        "outputId": "94de33cb-0e13-435a-f8fa-e2a23866241c"
      },
      "execution_count": 12,
      "outputs": [
        {
          "output_type": "stream",
          "name": "stdout",
          "text": [
            "content='' additional_kwargs={'tool_calls': [{'id': 'call_n0wv', 'function': {'arguments': '{\"__arg1\":\"SELECT * FROM Artist LIMIT 10;\"}', 'name': 'db_query_tool'}, 'type': 'function'}], 'refusal': None} response_metadata={'token_usage': {'completion_tokens': 82, 'prompt_tokens': 953, 'total_tokens': 1035, 'completion_tokens_details': None, 'prompt_tokens_details': None, 'queue_time': 0.017010110999999994, 'prompt_time': 0.17846952, 'completion_time': 0.068333333, 'total_time': 0.246802853}, 'model_name': 'llama3-8b-8192', 'system_fingerprint': 'fp_a97cfe35ae', 'id': 'chatcmpl-f7d00a18-0697-4afb-8011-d712613a4adf', 'finish_reason': 'tool_calls', 'logprobs': None} id='run-21477d69-00a9-474b-a3d3-8a592063124d-0' tool_calls=[{'name': 'db_query_tool', 'args': {'__arg1': 'SELECT * FROM Artist LIMIT 10;'}, 'id': 'call_n0wv', 'type': 'tool_call'}] usage_metadata={'input_tokens': 953, 'output_tokens': 82, 'total_tokens': 1035, 'input_token_details': {}, 'output_token_details': {}}\n"
          ]
        }
      ]
    },
    {
      "cell_type": "code",
      "source": [
        "from typing import Annotated, Literal\n",
        "from langchain_core.messages import AIMessage, ToolMessage\n",
        "from langchain_openai import ChatOpenAI\n",
        "from pydantic import BaseModel, Field\n",
        "from typing_extensions import TypedDict\n",
        "from langgraph.graph import END, StateGraph, START\n",
        "from langgraph.graph.message import AnyMessage, add_messages\n",
        "from langchain_core.prompts import ChatPromptTemplate\n",
        "import os\n",
        "\n",
        "# Define the state for the agent\n",
        "class State(TypedDict):\n",
        "    messages: Annotated[list[AnyMessage], add_messages]\n",
        "\n",
        "# Setup Groq-compatible LLM\n",
        "llm_groq = ChatOpenAI(\n",
        "    model_name=\"llama3-8b-8192\",\n",
        "    base_url=\"https://api.groq.com/openai/v1\",\n",
        "    api_key=os.environ[\"GROQ_API_KEY\"],\n",
        "    temperature=0,\n",
        ")\n",
        "\n",
        "# Define the query checking prompt and tool\n",
        "query_check_system = \"\"\"You are a SQL expert with a strong attention to detail.\n",
        "Double check the SQLite query for common mistakes, including:\n",
        "- Using NOT IN with NULL values\n",
        "- Using UNION when UNION ALL should have been used\n",
        "- Using BETWEEN for exclusive ranges\n",
        "- Data type mismatch in predicates\n",
        "- Properly quoting identifiers\n",
        "- Using the correct number of arguments for functions\n",
        "- Casting to the correct data type\n",
        "- Using the proper columns for joins\n",
        "\n",
        "If there are any of the above mistakes, rewrite the query. If there are no mistakes, just reproduce the original query.\n",
        "\n",
        "You will call the appropriate tool to execute the query after running this check.\"\"\"\n",
        "\n",
        "query_check_prompt = ChatPromptTemplate.from_messages(\n",
        "    [(\"system\", query_check_system), (\"placeholder\", \"{messages}\")]\n",
        ")\n",
        "\n",
        "query_check = query_check_prompt | llm_groq.bind_tools(\n",
        "    [db_query_tool], tool_choice=\"required\"\n",
        ")\n",
        "\n",
        "# Define workflow\n",
        "workflow = StateGraph(State)\n",
        "\n",
        "# Add a node for the first tool call\n",
        "def first_tool_call(state: State) -> dict[str, list[AIMessage]]:\n",
        "    return {\n",
        "        \"messages\": [\n",
        "            AIMessage(\n",
        "                content=\"\",\n",
        "                tool_calls=[\n",
        "                    {\n",
        "                        \"name\": \"sql_db_list_tables\",\n",
        "                        \"args\": {},\n",
        "                        \"id\": \"tool_abcd123\",\n",
        "                    }\n",
        "                ],\n",
        "            )\n",
        "        ]\n",
        "    }\n",
        "\n",
        "# Add a node to model-check query\n",
        "def model_check_query(state: State) -> dict[str, list[AIMessage]]:\n",
        "    return {\"messages\": [query_check.invoke({\"messages\": [state[\"messages\"][-1]]})]}\n",
        "\n",
        "# Add workflow nodes\n",
        "workflow.add_node(\"first_tool_call\", first_tool_call)\n",
        "workflow.add_node(\"list_tables_tool\", create_tool_node_with_fallback([list_tables_tool]))\n",
        "workflow.add_node(\"get_schema_tool\", create_tool_node_with_fallback([get_schema_tool]))\n",
        "\n",
        "# Bind get schema tool with Groq model\n",
        "model_get_schema = llm_groq.bind_tools([get_schema_tool])\n",
        "workflow.add_node(\n",
        "    \"model_get_schema\",\n",
        "    lambda state: {\n",
        "        \"messages\": [model_get_schema.invoke(state[\"messages\"])],\n",
        "    },\n",
        ")\n",
        "\n",
        "# Define SubmitFinalAnswer tool\n",
        "class SubmitFinalAnswer(BaseModel):\n",
        "    \"\"\"Submit the final answer to the user based on the query results.\"\"\"\n",
        "    final_answer: str = Field(..., description=\"The final answer to the user\")\n",
        "\n",
        "# Prompt for query generation\n",
        "query_gen_system = \"\"\"You are a SQL expert with a strong attention to detail.\n",
        "\n",
        "Given an input question, output a syntactically correct SQLite query to run, then look at the results of the query and return the answer.\n",
        "\n",
        "DO NOT call any tool besides SubmitFinalAnswer to submit the final answer.\n",
        "\n",
        "When generating the query:\n",
        "\n",
        "Output the SQL query that answers the input question without a tool call.\n",
        "\n",
        "Unless the user specifies a specific number of examples they wish to obtain, always limit your query to at most 5 results.\n",
        "You can order the results by a relevant column to return the most interesting examples in the database.\n",
        "Never query for all the columns from a specific table, only ask for the relevant columns given the question.\n",
        "\n",
        "If you get an error while executing a query, rewrite the query and try again.\n",
        "\n",
        "If you get an empty result set, you should try to rewrite the query to get a non-empty result set.\n",
        "NEVER make stuff up if you don't have enough information to answer the query... just say you don't have enough information.\n",
        "\n",
        "If you have enough information to answer the input question, simply invoke the appropriate tool to submit the final answer to the user.\n",
        "\n",
        "DO NOT make any DML statements (INSERT, UPDATE, DELETE, DROP etc.) to the database.\"\"\"\n",
        "\n",
        "query_gen_prompt = ChatPromptTemplate.from_messages(\n",
        "    [(\"system\", query_gen_system), (\"placeholder\", \"{messages}\")]\n",
        ")\n",
        "\n",
        "query_gen = query_gen_prompt | llm_groq.bind_tools([SubmitFinalAnswer])\n",
        "\n",
        "# Query generation node\n",
        "def query_gen_node(state: State):\n",
        "    message = query_gen.invoke(state)\n",
        "\n",
        "    tool_messages = []\n",
        "    if message.tool_calls:\n",
        "        for tc in message.tool_calls:\n",
        "            if tc[\"name\"] != \"SubmitFinalAnswer\":\n",
        "                tool_messages.append(\n",
        "                    ToolMessage(\n",
        "                        content=f\"Error: The wrong tool was called: {tc['name']}. Please fix your mistakes. Remember to only call SubmitFinalAnswer to submit the final answer. Generated queries should be outputted WITHOUT a tool call.\",\n",
        "                        tool_call_id=tc[\"id\"],\n",
        "                    )\n",
        "                )\n",
        "    return {\"messages\": [message] + tool_messages}\n",
        "\n",
        "workflow.add_node(\"query_gen\", query_gen_node)\n",
        "\n",
        "# Add node for query checking\n",
        "workflow.add_node(\"correct_query\", model_check_query)\n",
        "\n",
        "# Add node for executing query\n",
        "workflow.add_node(\"execute_query\", create_tool_node_with_fallback([db_query_tool]))\n",
        "\n",
        "# Control logic for conditional edges\n",
        "def should_continue(state: State) -> Literal[END, \"correct_query\", \"query_gen\"]:\n",
        "    messages = state[\"messages\"]\n",
        "    last_message = messages[-1]\n",
        "    if getattr(last_message, \"tool_calls\", None):\n",
        "        return END\n",
        "    if last_message.content.startswith(\"Error:\"):\n",
        "        return \"query_gen\"\n",
        "    else:\n",
        "        return \"correct_query\"\n",
        "\n",
        "# Connect the graph nodes\n",
        "workflow.add_edge(START, \"first_tool_call\")\n",
        "workflow.add_edge(\"first_tool_call\", \"list_tables_tool\")\n",
        "workflow.add_edge(\"list_tables_tool\", \"model_get_schema\")\n",
        "workflow.add_edge(\"model_get_schema\", \"get_schema_tool\")\n",
        "workflow.add_edge(\"get_schema_tool\", \"query_gen\")\n",
        "workflow.add_conditional_edges(\"query_gen\", should_continue)\n",
        "workflow.add_edge(\"correct_query\", \"execute_query\")\n",
        "workflow.add_edge(\"execute_query\", \"query_gen\")\n",
        "\n",
        "# Compile the workflow\n",
        "app = workflow.compile()\n"
      ],
      "metadata": {
        "id": "IhE0km1VIDhj"
      },
      "execution_count": 14,
      "outputs": []
    },
    {
      "cell_type": "code",
      "source": [
        "from IPython.display import Image, display\n",
        "from langchain_core.runnables.graph import MermaidDrawMethod\n",
        "\n",
        "display(Image(app.get_graph().draw_mermaid_png()))"
      ],
      "metadata": {
        "colab": {
          "base_uri": "https://localhost:8080/",
          "height": 761
        },
        "id": "C2I2w08xIrCs",
        "outputId": "1e90900e-f060-46d4-f530-19e632e86591"
      },
      "execution_count": 15,
      "outputs": [
        {
          "output_type": "display_data",
          "data": {
            "image/png": "[encoded data removed]",
            "text/plain": [
              "<IPython.core.display.Image object>"
            ]
          },
          "metadata": {}
        }
      ]
    },
    {
      "cell_type": "code",
      "source": [
        "messages = app.invoke(\n",
        "    {\"messages\": [(\"user\", \"Which sales agent made the most in sales in 2009?\")]}\n",
        ")\n",
        "json_str = messages[\"messages\"][-1].tool_calls[0][\"args\"][\"final_answer\"]\n",
        "json_str"
      ],
      "metadata": {
        "colab": {
          "base_uri": "https://localhost:8080/",
          "height": 36
        },
        "id": "8o4cVu_hIyf7",
        "outputId": "ce8d487e-6fd7-4287-c427-5f358b842f21"
      },
      "execution_count": 16,
      "outputs": [
        {
          "output_type": "execute_result",
          "data": {
            "text/plain": [
              "'Luís Gonçalves'"
            ],
            "application/vnd.google.colaboratory.intrinsic+json": {
              "type": "string"
            }
          },
          "metadata": {},
          "execution_count": 16
        }
      ]
    },
    {
      "cell_type": "code",
      "source": [
        "for event in app.stream(\n",
        "    {\"messages\": [(\"user\", \"Which sales agent made the most in sales in 2009?\")]}\n",
        "):\n",
        "    print(event)"
      ],
      "metadata": {
        "colab": {
          "base_uri": "https://localhost:8080/"
        },
        "id": "MuNgV-ndI0w7",
        "outputId": "1e25c683-ced0-4d34-bd3f-7fd2a6ff9fcc"
      },
      "execution_count": 17,
      "outputs": [
        {
          "output_type": "stream",
          "name": "stdout",
          "text": [
            "{'first_tool_call': {'messages': [AIMessage(content='', additional_kwargs={}, response_metadata={}, id='16c80ab3-de28-44c7-878e-5ea2032f39bc', tool_calls=[{'name': 'sql_db_list_tables', 'args': {}, 'id': 'tool_abcd123', 'type': 'tool_call'}])]}}\n",
            "{'list_tables_tool': {'messages': [ToolMessage(content='Album, Artist, Customer, Employee, Genre, Invoice, InvoiceLine, MediaType, Playlist, PlaylistTrack, Track', name='sql_db_list_tables', id='9a06eed3-e6de-4596-9e22-803a473aa84a', tool_call_id='tool_abcd123')]}}\n",
            "{'model_get_schema': {'messages': [AIMessage(content='', additional_kwargs={'tool_calls': [{'id': 'call_nx2s', 'function': {'arguments': '{\"table_names\":\"Customer\"}', 'name': 'sql_db_schema'}, 'type': 'function'}], 'refusal': None}, response_metadata={'token_usage': {'completion_tokens': 35, 'prompt_tokens': 1076, 'total_tokens': 1111, 'completion_tokens_details': None, 'prompt_tokens_details': None, 'queue_time': 0.02403470099999999, 'prompt_time': 0.135571199, 'completion_time': 0.029166667, 'total_time': 0.164737866}, 'model_name': 'llama3-8b-8192', 'system_fingerprint': 'fp_dadc9d6142', 'id': 'chatcmpl-1bb41198-fc45-4433-9280-e224a0a3d50c', 'finish_reason': 'tool_calls', 'logprobs': None}, id='run-0b44793e-acc1-4fdb-ba5a-fded212e43e3-0', tool_calls=[{'name': 'sql_db_schema', 'args': {'table_names': 'Customer'}, 'id': 'call_nx2s', 'type': 'tool_call'}], usage_metadata={'input_tokens': 1076, 'output_tokens': 35, 'total_tokens': 1111, 'input_token_details': {}, 'output_token_details': {}})]}}\n",
            "{'get_schema_tool': {'messages': [ToolMessage(content='\\nCREATE TABLE \"Customer\" (\\n\\t\"CustomerId\" INTEGER NOT NULL, \\n\\t\"FirstName\" NVARCHAR(40) NOT NULL, \\n\\t\"LastName\" NVARCHAR(20) NOT NULL, \\n\\t\"Company\" NVARCHAR(80), \\n\\t\"Address\" NVARCHAR(70), \\n\\t\"City\" NVARCHAR(40), \\n\\t\"State\" NVARCHAR(40), \\n\\t\"Country\" NVARCHAR(40), \\n\\t\"PostalCode\" NVARCHAR(10), \\n\\t\"Phone\" NVARCHAR(24), \\n\\t\"Fax\" NVARCHAR(24), \\n\\t\"Email\" NVARCHAR(60) NOT NULL, \\n\\t\"SupportRepId\" INTEGER, \\n\\tPRIMARY KEY (\"CustomerId\"), \\n\\tFOREIGN KEY(\"SupportRepId\") REFERENCES \"Employee\" (\"EmployeeId\")\\n)\\n\\n/*\\n3 rows from Customer table:\\nCustomerId\\tFirstName\\tLastName\\tCompany\\tAddress\\tCity\\tState\\tCountry\\tPostalCode\\tPhone\\tFax\\tEmail\\tSupportRepId\\n1\\tLuís\\tGonçalves\\tEmbraer - Empresa Brasileira de Aeronáutica S.A.\\tAv. Brigadeiro Faria Lima, 2170\\tSão José dos Campos\\tSP\\tBrazil\\t12227-000\\t+55 (12) 3923-5555\\t+55 (12) 3923-5566\\tluisg@embraer.com.br\\t3\\n2\\tLeonie\\tKöhler\\tNone\\tTheodor-Heuss-Straße 34\\tStuttgart\\tNone\\tGermany\\t70174\\t+49 0711 2842222\\tNone\\tleonekohler@surfeu.de\\t5\\n3\\tFrançois\\tTremblay\\tNone\\t1498 rue Bélanger\\tMontréal\\tQC\\tCanada\\tH2G 1A7\\t+1 (514) 721-4711\\tNone\\tftremblay@gmail.com\\t3\\n*/', name='sql_db_schema', id='a4f43913-13ac-4959-b6f6-7d312fa07c80', tool_call_id='call_nx2s')]}}\n",
            "{'query_gen': {'messages': [AIMessage(content='', additional_kwargs={'tool_calls': [{'id': 'call_z3kn', 'function': {'arguments': '{\"final_answer\":\"Luís Gonçalves\"}', 'name': 'SubmitFinalAnswer'}, 'type': 'function'}], 'refusal': None}, response_metadata={'token_usage': {'completion_tokens': 40, 'prompt_tokens': 1738, 'total_tokens': 1778, 'completion_tokens_details': None, 'prompt_tokens_details': None, 'queue_time': 0.023741624000000017, 'prompt_time': 0.232427485, 'completion_time': 0.033333333, 'total_time': 0.265760818}, 'model_name': 'llama3-8b-8192', 'system_fingerprint': 'fp_dadc9d6142', 'id': 'chatcmpl-11e70c99-5cf5-4aa4-9a60-473826d923c3', 'finish_reason': 'tool_calls', 'logprobs': None}, id='run-7b264046-1f41-4d93-a85d-c93a809aefbc-0', tool_calls=[{'name': 'SubmitFinalAnswer', 'args': {'final_answer': 'Luís Gonçalves'}, 'id': 'call_z3kn', 'type': 'tool_call'}], usage_metadata={'input_tokens': 1738, 'output_tokens': 40, 'total_tokens': 1778, 'input_token_details': {}, 'output_token_details': {}})]}}\n"
          ]
        }
      ]
    },
    {
      "cell_type": "code",
      "source": [
        "import json\n",
        "\n",
        "\n",
        "def predict_sql_agent_answer(example: dict):\n",
        "    \"\"\"Use this for answer evaluation\"\"\"\n",
        "    msg = {\"messages\": (\"user\", example[\"input\"])}\n",
        "    messages = app.invoke(msg)\n",
        "    json_str = messages[\"messages\"][-1].tool_calls[0][\"args\"]\n",
        "    response = json_str[\"final_answer\"]\n",
        "    return {\"response\": response}"
      ],
      "metadata": {
        "id": "aYFHieHDI-IT"
      },
      "execution_count": 18,
      "outputs": []
    },
    {
      "cell_type": "code",
      "source": [
        "import os\n",
        "from langchain import hub\n",
        "from langchain_openai import ChatOpenAI\n",
        "\n",
        "# Load the prompt from LangChain Hub\n",
        "grade_prompt_answer_accuracy = hub.pull(\"langchain-ai/rag-answer-vs-reference\")\n",
        "\n",
        "def answer_evaluator(run, example) -> dict:\n",
        "    \"\"\"\n",
        "    A simple evaluator for RAG answer accuracy using Groq\n",
        "    \"\"\"\n",
        "\n",
        "    # Get question, ground truth answer, and model prediction\n",
        "    input_question = example.inputs[\"input\"]\n",
        "    reference = example.outputs[\"output\"]\n",
        "    prediction = run.outputs[\"response\"]\n",
        "\n",
        "    # Set up Groq-compatible LLM\n",
        "    llm = ChatOpenAI(\n",
        "        model=\"llama3-8b-8192\",\n",
        "        base_url=\"https://api.groq.com/openai/v1\",\n",
        "        api_key=os.environ[\"GROQ_API_KEY\"],\n",
        "        temperature=0,\n",
        "    )\n",
        "\n",
        "    # Bind the grading prompt with the LLM\n",
        "    answer_grader = grade_prompt_answer_accuracy | llm\n",
        "\n",
        "    # Run evaluator\n",
        "    result = answer_grader.invoke(\n",
        "        {\n",
        "            \"question\": input_question,\n",
        "            \"correct_answer\": reference,\n",
        "            \"student_answer\": prediction,\n",
        "        }\n",
        "    )\n",
        "\n",
        "    # Extract score (assuming the response format includes a \"Score\" field)\n",
        "    score = result.get(\"Score\", 0)\n",
        "\n",
        "    return {\n",
        "        \"key\": \"answer_v_reference_score\",\n",
        "        \"score\": score\n",
        "    }\n"
      ],
      "metadata": {
        "colab": {
          "base_uri": "https://localhost:8080/"
        },
        "id": "cgmh04JWJJRL",
        "outputId": "82f9674d-7376-4f65-af90-a193feb7d5f6"
      },
      "execution_count": 19,
      "outputs": [
        {
          "output_type": "stream",
          "name": "stderr",
          "text": [
            "/usr/local/lib/python3.11/dist-packages/langsmith/client.py:280: LangSmithMissingAPIKeyWarning: API key must be provided when using hosted LangSmith API\n",
            "  warnings.warn(\n"
          ]
        }
      ]
    },
    {
      "cell_type": "code",
      "source": [
        "from langsmith.evaluation import evaluate\n",
        "\n",
        "dataset_name = \"SQL Agent Response\"\n",
        "try:\n",
        "    experiment_results = evaluate(\n",
        "        predict_sql_agent_answer,\n",
        "        data=dataset_name,\n",
        "        evaluators=[answer_evaluator],\n",
        "        num_repetitions=3,\n",
        "        experiment_prefix=\"sql-agent-multi-step-response-v-reference\",\n",
        "        metadata={\"version\": \"Chinook, gpt-4o multi-step-agent\"},\n",
        "    )\n",
        "except:\n",
        "    print(\"Please setup LangSmith\")"
      ],
      "metadata": {
        "colab": {
          "base_uri": "https://localhost:8080/"
        },
        "id": "V9oLHBeWJMID",
        "outputId": "8ca1a5a0-be85-4e42-e2d7-6e778a6be4f8"
      },
      "execution_count": 24,
      "outputs": [
        {
          "output_type": "stream",
          "name": "stdout",
          "text": [
            "Please setup LangSmith\n"
          ]
        }
      ]
    },
    {
      "cell_type": "code",
      "source": [
        "import os\n",
        "from langchain_core.prompts import ChatPromptTemplate\n",
        "from langchain_groq import ChatGroq  # Make sure this is installed: pip install langchain-groq\n",
        "from langchain import hub\n",
        "\n",
        "# ✅ Set your LangSmith API Key\n",
        "os.environ[\"LANGCHAIN_API_KEY\"] = \"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\"\n",
        "\n",
        "# ✅ Set up the prompt from LangChain Hub (now it will work)\n",
        "grade_prompt_answer_accuracy = hub.pull(\"langchain-ai/rag-answer-vs-reference\")\n",
        "\n",
        "# ✅ Set up the evaluator using Groq\n",
        "llm = ChatGroq(model=\"mixtral-8x7b-32768\", temperature=0)\n",
        "\n",
        "answer_grader = grade_prompt_answer_accuracy | llm\n",
        "\n",
        "\n",
        "# ✅ Evaluation function\n",
        "def answer_evaluator(run, example) -> dict:\n",
        "    \"\"\"\n",
        "    A simple evaluator for RAG answer accuracy using Groq.\n",
        "    \"\"\"\n",
        "\n",
        "    input_question = example.inputs[\"input\"]\n",
        "    reference = example.outputs[\"output\"]\n",
        "    prediction = run.outputs[\"response\"]\n",
        "\n",
        "    score_dict = answer_grader.invoke({\n",
        "        \"question\": input_question,\n",
        "        \"correct_answer\": reference,\n",
        "        \"student_answer\": prediction,\n",
        "    })\n",
        "\n",
        "    score = score_dict[\"Score\"]\n",
        "\n",
        "    return {\"key\": \"answer_v_reference_score\", \"score\": score}\n"
      ],
      "metadata": {
        "colab": {
          "base_uri": "https://localhost:8080/"
        },
        "id": "MGH3DzNeJO9z",
        "outputId": "ac40245c-4e39-46e0-d0e6-002a178ae2b7"
      },
      "execution_count": 23,
      "outputs": [
        {
          "output_type": "stream",
          "name": "stderr",
          "text": [
            "/usr/local/lib/python3.11/dist-packages/langsmith/client.py:280: LangSmithMissingAPIKeyWarning: API key must be provided when using hosted LangSmith API\n",
            "  warnings.warn(\n"
          ]
        }
      ]
    },
    {
      "cell_type": "code",
      "source": [
        " pip install langchain-groq"
      ],
      "metadata": {
        "colab": {
          "base_uri": "https://localhost:8080/"
        },
        "id": "I9T6_23iKvge",
        "outputId": "d6f52d97-c82c-4f37-9ca1-0388fa86e40c"
      },
      "execution_count": 22,
      "outputs": [
        {
          "output_type": "stream",
          "name": "stdout",
          "text": [
            "Collecting langchain-groq\n",
            "  Downloading langchain_groq-0.3.2-py3-none-any.whl.metadata (2.6 kB)\n",
            "Requirement already satisfied: langchain-core<1.0.0,>=0.3.49 in /usr/local/lib/python3.11/dist-packages (from langchain-groq) (0.3.55)\n",
            "Collecting groq<1,>=0.4.1 (from langchain-groq)\n",
            "  Downloading groq-0.23.1-py3-none-any.whl.metadata (15 kB)\n",
            "Requirement already satisfied: anyio<5,>=3.5.0 in /usr/local/lib/python3.11/dist-packages (from groq<1,>=0.4.1->langchain-groq) (4.9.0)\n",
            "Requirement already satisfied: distro<2,>=1.7.0 in /usr/local/lib/python3.11/dist-packages (from groq<1,>=0.4.1->langchain-groq) (1.9.0)\n",
            "Requirement already satisfied: httpx<1,>=0.23.0 in /usr/local/lib/python3.11/dist-packages (from groq<1,>=0.4.1->langchain-groq) (0.28.1)\n",
            "Requirement already satisfied: pydantic<3,>=1.9.0 in /usr/local/lib/python3.11/dist-packages (from groq<1,>=0.4.1->langchain-groq) (2.11.3)\n",
            "Requirement already satisfied: sniffio in /usr/local/lib/python3.11/dist-packages (from groq<1,>=0.4.1->langchain-groq) (1.3.1)\n",
            "Requirement already satisfied: typing-extensions<5,>=4.10 in /usr/local/lib/python3.11/dist-packages (from groq<1,>=0.4.1->langchain-groq) (4.13.2)\n",
            "Requirement already satisfied: langsmith<0.4,>=0.1.125 in /usr/local/lib/python3.11/dist-packages (from langchain-core<1.0.0,>=0.3.49->langchain-groq) (0.3.33)\n",
            "Requirement already satisfied: tenacity!=8.4.0,<10.0.0,>=8.1.0 in /usr/local/lib/python3.11/dist-packages (from langchain-core<1.0.0,>=0.3.49->langchain-groq) (9.1.2)\n",
            "Requirement already satisfied: jsonpatch<2.0,>=1.33 in /usr/local/lib/python3.11/dist-packages (from langchain-core<1.0.0,>=0.3.49->langchain-groq) (1.33)\n",
            "Requirement already satisfied: PyYAML>=5.3 in /usr/local/lib/python3.11/dist-packages (from langchain-core<1.0.0,>=0.3.49->langchain-groq) (6.0.2)\n",
            "Requirement already satisfied: packaging<25,>=23.2 in /usr/local/lib/python3.11/dist-packages (from langchain-core<1.0.0,>=0.3.49->langchain-groq) (24.2)\n",
            "Requirement already satisfied: idna>=2.8 in /usr/local/lib/python3.11/dist-packages (from anyio<5,>=3.5.0->groq<1,>=0.4.1->langchain-groq) (3.10)\n",
            "Requirement already satisfied: certifi in /usr/local/lib/python3.11/dist-packages (from httpx<1,>=0.23.0->groq<1,>=0.4.1->langchain-groq) (2025.1.31)\n",
            "Requirement already satisfied: httpcore==1.* in /usr/local/lib/python3.11/dist-packages (from httpx<1,>=0.23.0->groq<1,>=0.4.1->langchain-groq) (1.0.8)\n",
            "Requirement already satisfied: h11<0.15,>=0.13 in /usr/local/lib/python3.11/dist-packages (from httpcore==1.*->httpx<1,>=0.23.0->groq<1,>=0.4.1->langchain-groq) (0.14.0)\n",
            "Requirement already satisfied: jsonpointer>=1.9 in /usr/local/lib/python3.11/dist-packages (from jsonpatch<2.0,>=1.33->langchain-core<1.0.0,>=0.3.49->langchain-groq) (3.0.0)\n",
            "Requirement already satisfied: orjson<4.0.0,>=3.9.14 in /usr/local/lib/python3.11/dist-packages (from langsmith<0.4,>=0.1.125->langchain-core<1.0.0,>=0.3.49->langchain-groq) (3.10.16)\n",
            "Requirement already satisfied: requests<3,>=2 in /usr/local/lib/python3.11/dist-packages (from langsmith<0.4,>=0.1.125->langchain-core<1.0.0,>=0.3.49->langchain-groq) (2.32.3)\n",
            "Requirement already satisfied: requests-toolbelt<2.0.0,>=1.0.0 in /usr/local/lib/python3.11/dist-packages (from langsmith<0.4,>=0.1.125->langchain-core<1.0.0,>=0.3.49->langchain-groq) (1.0.0)\n",
            "Requirement already satisfied: zstandard<0.24.0,>=0.23.0 in /usr/local/lib/python3.11/dist-packages (from langsmith<0.4,>=0.1.125->langchain-core<1.0.0,>=0.3.49->langchain-groq) (0.23.0)\n",
            "Requirement already satisfied: annotated-types>=0.6.0 in /usr/local/lib/python3.11/dist-packages (from pydantic<3,>=1.9.0->groq<1,>=0.4.1->langchain-groq) (0.7.0)\n",
            "Requirement already satisfied: pydantic-core==2.33.1 in /usr/local/lib/python3.11/dist-packages (from pydantic<3,>=1.9.0->groq<1,>=0.4.1->langchain-groq) (2.33.1)\n",
            "Requirement already satisfied: typing-inspection>=0.4.0 in /usr/local/lib/python3.11/dist-packages (from pydantic<3,>=1.9.0->groq<1,>=0.4.1->langchain-groq) (0.4.0)\n",
            "Requirement already satisfied: charset-normalizer<4,>=2 in /usr/local/lib/python3.11/dist-packages (from requests<3,>=2->langsmith<0.4,>=0.1.125->langchain-core<1.0.0,>=0.3.49->langchain-groq) (3.4.1)\n",
            "Requirement already satisfied: urllib3<3,>=1.21.1 in /usr/local/lib/python3.11/dist-packages (from requests<3,>=2->langsmith<0.4,>=0.1.125->langchain-core<1.0.0,>=0.3.49->langchain-groq) (2.3.0)\n",
            "Downloading langchain_groq-0.3.2-py3-none-any.whl (15 kB)\n",
            "Downloading groq-0.23.1-py3-none-any.whl (127 kB)\n",
            "\u001b[2K   \u001b[90m━━━━━━━━━━━━━━━━━━━━━━━━━━━━━━━━━━━━━━━━\u001b[0m \u001b[32m127.4/127.4 kB\u001b[0m \u001b[31m4.8 MB/s\u001b[0m eta \u001b[36m0:00:00\u001b[0m\n",
            "\u001b[?25hInstalling collected packages: groq, langchain-groq\n",
            "Successfully installed groq-0.23.1 langchain-groq-0.3.2\n"
          ]
        }
      ]
    },
    {
      "cell_type": "code",
      "source": [
        "from langsmith.evaluation import evaluate\n",
        "\n",
        "dataset_name = \"SQL Agent Response\"\n",
        "try:\n",
        "    experiment_results = evaluate(\n",
        "        predict_sql_agent_answer,\n",
        "        data=dataset_name,\n",
        "        evaluators=[answer_evaluator],\n",
        "        num_repetitions=3,\n",
        "        experiment_prefix=\"sql-agent-multi-step-response-v-reference\",\n",
        "        metadata={\"version\": \"Chinook, gpt-4o multi-step-agent\"},\n",
        "    )\n",
        "except:\n",
        "    print(\"Please setup LangSmith\")"
      ],
      "metadata": {
        "colab": {
          "base_uri": "https://localhost:8080/"
        },
        "id": "cOp9nV6oK4pL",
        "outputId": "22ed6cfd-1574-4ff6-ed84-714fad276995"
      },
      "execution_count": 25,
      "outputs": [
        {
          "output_type": "stream",
          "name": "stdout",
          "text": [
            "Please setup LangSmith\n"
          ]
        }
      ]
    }
  ]
}